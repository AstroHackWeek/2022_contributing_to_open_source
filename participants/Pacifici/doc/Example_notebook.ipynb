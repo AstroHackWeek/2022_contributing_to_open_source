{
 "cells": [
  {
   "cell_type": "markdown",
   "id": "d5462179",
   "metadata": {},
   "source": [
    "# How to use this PR tutorial"
   ]
  },
  {
   "cell_type": "markdown",
   "id": "3716cb0b",
   "metadata": {},
   "source": [
    "First import stuff"
   ]
  },
  {
   "cell_type": "code",
   "execution_count": 6,
   "id": "4c7051a3",
   "metadata": {},
   "outputs": [],
   "source": [
    "# Import the packages\n",
    "from pr_tutorial.simple_functions import fibonacci, factorial\n",
    "from pr_tutorial.buggy_function import angle_to_sexigesimal"
   ]
  },
  {
   "cell_type": "code",
   "execution_count": 7,
   "id": "4622ce82",
   "metadata": {},
   "outputs": [
    {
     "data": {
      "text/plain": [
       "[0, 1, 1, 2, 3, 5, 8]"
      ]
     },
     "execution_count": 7,
     "metadata": {},
     "output_type": "execute_result"
    }
   ],
   "source": [
    "# Run the first simple function\n",
    "fibonacci(13)"
   ]
  },
  {
   "cell_type": "code",
   "execution_count": 8,
   "id": "38fa7d6d",
   "metadata": {},
   "outputs": [
    {
     "data": {
      "text/plain": [
       "3628800"
      ]
     },
     "execution_count": 8,
     "metadata": {},
     "output_type": "execute_result"
    }
   ],
   "source": [
    "# Run the second simple function\n",
    "factorial(10)"
   ]
  },
  {
   "cell_type": "code",
   "execution_count": 10,
   "id": "8614d964",
   "metadata": {},
   "outputs": [
    {
     "data": {
      "text/plain": [
       "'24:3:60.000'"
      ]
     },
     "execution_count": 10,
     "metadata": {},
     "output_type": "execute_result"
    }
   ],
   "source": [
    "# Run the buggy function\n",
    "angle_to_sexigesimal(180.5, 3)"
   ]
  },
  {
   "cell_type": "markdown",
   "id": "abbdb8a9",
   "metadata": {},
   "source": [
    "But this is wrong...need to find the bug!"
   ]
  },
  {
   "cell_type": "code",
   "execution_count": null,
   "id": "f42da0c7",
   "metadata": {},
   "outputs": [],
   "source": []
  }
 ],
 "metadata": {
  "kernelspec": {
   "display_name": "Python 3 (ipykernel)",
   "language": "python",
   "name": "python3"
  },
  "language_info": {
   "codemirror_mode": {
    "name": "ipython",
    "version": 3
   },
   "file_extension": ".py",
   "mimetype": "text/x-python",
   "name": "python",
   "nbconvert_exporter": "python",
   "pygments_lexer": "ipython3",
   "version": "3.10.6"
  }
 },
 "nbformat": 4,
 "nbformat_minor": 5
}
